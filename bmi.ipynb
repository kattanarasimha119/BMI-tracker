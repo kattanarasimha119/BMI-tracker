{
 "cells": [
  {
   "cell_type": "code",
   "execution_count": null,
   "metadata": {},
   "outputs": [],
   "source": [
    "import numpy as np\n",
    "from sklearn.linear_model import LinearRegression\n",
    "\n",
    "# Sample dataset (height in meters, weight in kilograms, BMI)\n",
    "data = np.array([\n",
    "    [1.60, 50, 19.53],\n",
    "    [1.65, 60, 22.04],\n",
    "    [1.70, 65, 22.49],\n",
    "    [1.75, 70, 22.86],\n",
    "    [1.80, 80, 24.69],\n",
    "    [1.85, 90, 26.30],\n",
    "    [1.90, 100, 27.70],\n",
    "])\n",
    "\n",
    "# Extract features (height and weight)\n",
    "X = data[:, :2]  # Height and weight\n",
    "y = data[:, 2]   # BMI\n",
    "\n",
    "# Train the linear regression model\n",
    "model = LinearRegression()\n",
    "model.fit(X, y)\n",
    "\n",
    "# Function to predict BMI\n",
    "def predict_bmi(height, weight):\n",
    "    bmi = model.predict([[height, weight]])\n",
    "    return bmi[0]\n",
    "\n",
    "# User input for height and weight\n",
    "height = float(input(\"Enter your height in meters: \"))\n",
    "weight = float(input(\"Enter your weight in kilograms: \"))\n",
    "\n",
    "# Predict BMI using the model\n",
    "predicted_bmi = predict_bmi(height, weight)\n",
    "print(\"Predicted BMI:\", predicted_bmi)"
   ]
  }
 ],
 "metadata": {
  "language_info": {
   "name": "python"
  }
 },
 "nbformat": 4,
 "nbformat_minor": 2
}
